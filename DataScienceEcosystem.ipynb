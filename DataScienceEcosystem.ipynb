{
 "cells": [
  {
   "cell_type": "markdown",
   "id": "251089a6-6907-44b1-ad79-e7c1fc1ba165",
   "metadata": {},
   "source": [
    "# Data Science Tools and Ecosystem"
   ]
  },
  {
   "cell_type": "markdown",
   "id": "6095385e-132e-468c-9d27-a2e808e5fe03",
   "metadata": {},
   "source": [
    "In this notebook, Data Science Tools and Ecosystem are summarised."
   ]
  },
  {
   "cell_type": "markdown",
   "id": "800e0c12-8e60-479c-a0ba-9bdcf2e577c8",
   "metadata": {},
   "source": [
    "Some of the popular languages that Data Scientists use are:\n",
    "1. Python\n",
    "2. R\n",
    "3. SQL"
   ]
  },
  {
   "cell_type": "markdown",
   "id": "8f9682f8-8d28-417c-b2a5-a968371b099a",
   "metadata": {},
   "source": [
    "Some of The commonly used libraries used by Data Scientists include:\n",
    "1. NumPy\n",
    "2. Pandas\n",
    "3. Matplotlib"
   ]
  },
  {
   "cell_type": "markdown",
   "id": "8f457c1a-db89-4bdf-802b-a7c1d82b8184",
   "metadata": {},
   "source": [
    "| Data Science Tools      |\n",
    "|-------------------------|\n",
    "| Jupyter Notebook        |\n",
    "| RStudio                 |\n",
    "| Visual Studio Code      |\n"
   ]
  },
  {
   "cell_type": "markdown",
   "id": "e776be44-90c5-4683-9528-6ea15f96e00d",
   "metadata": {},
   "source": [
    "### Below are a few examples of evaluating arithmetic expressions in Python\n"
   ]
  },
  {
   "cell_type": "code",
   "execution_count": 15,
   "id": "ab218299-c1a0-4695-883d-fa3dd08b7c78",
   "metadata": {},
   "outputs": [
    {
     "name": "stdout",
     "output_type": "stream",
     "text": [
      "17\n"
     ]
    }
   ],
   "source": [
    "# This is a simple arithmetic expression to multiply then add integers.\n",
    "result = (3 * 4) + 5\n",
    "print (result)\n"
   ]
  },
  {
   "cell_type": "code",
   "execution_count": 22,
   "id": "b0698c99-b1bc-4bf5-8aea-562a044988fd",
   "metadata": {},
   "outputs": [
    {
     "name": "stdout",
     "output_type": "stream",
     "text": [
      "hours = 3.3333333333333335\n"
     ]
    }
   ],
   "source": [
    "# This will convert 200 minutes to hours by dividing by 60\n",
    "min = 200\n",
    "hr = min / 60\n",
    "print (f\"hours = {hr}\" )"
   ]
  },
  {
   "cell_type": "markdown",
   "id": "4854f5a3-2291-4715-8c7c-9471b7fd6a3e",
   "metadata": {},
   "source": [
    "**Objectives**\n",
    "- creating notebook\n",
    "- popular languages\n",
    "- data science tools\n",
    "- arithmetic expressions in python\n"
   ]
  },
  {
   "cell_type": "markdown",
   "id": "e2824a20-5c5e-4747-9580-d4da8176a5d8",
   "metadata": {},
   "source": [
    "## Author\n",
    "Shreynsh Singh\n"
   ]
  },
  {
   "cell_type": "code",
   "execution_count": null,
   "id": "02ef0e40-834e-44d5-b4f5-8c9ea6b58d9c",
   "metadata": {},
   "outputs": [],
   "source": []
  }
 ],
 "metadata": {
  "kernelspec": {
   "display_name": "Python 3 (ipykernel)",
   "language": "python",
   "name": "python3"
  },
  "language_info": {
   "codemirror_mode": {
    "name": "ipython",
    "version": 3
   },
   "file_extension": ".py",
   "mimetype": "text/x-python",
   "name": "python",
   "nbconvert_exporter": "python",
   "pygments_lexer": "ipython3",
   "version": "3.9.13"
  }
 },
 "nbformat": 4,
 "nbformat_minor": 5
}
